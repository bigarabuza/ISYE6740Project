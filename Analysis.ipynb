{
 "cells": [
  {
   "cell_type": "markdown",
   "metadata": {},
   "source": [
    "# Steam Games Analysis"
   ]
  },
  {
   "cell_type": "code",
   "execution_count": 8,
   "metadata": {},
   "outputs": [
    {
     "data": {
      "text/html": [
       "<div>\n",
       "<style scoped>\n",
       "    .dataframe tbody tr th:only-of-type {\n",
       "        vertical-align: middle;\n",
       "    }\n",
       "\n",
       "    .dataframe tbody tr th {\n",
       "        vertical-align: top;\n",
       "    }\n",
       "\n",
       "    .dataframe thead th {\n",
       "        text-align: right;\n",
       "    }\n",
       "</style>\n",
       "<table border=\"1\" class=\"dataframe\">\n",
       "  <thead>\n",
       "    <tr style=\"text-align: right;\">\n",
       "      <th></th>\n",
       "      <th>appid</th>\n",
       "      <th>Title</th>\n",
       "      <th>Type</th>\n",
       "      <th>Price</th>\n",
       "      <th>Release_Date</th>\n",
       "      <th>Rating</th>\n",
       "      <th>Required_Age</th>\n",
       "      <th>Is_Multiplayer</th>\n",
       "    </tr>\n",
       "  </thead>\n",
       "  <tbody>\n",
       "    <tr>\n",
       "      <th>0</th>\n",
       "      <td>63942</td>\n",
       "      <td>Men of War: Vietnam Special Edition Upgrade Pack</td>\n",
       "      <td>dlc</td>\n",
       "      <td>2.99</td>\n",
       "      <td>1970-01-01</td>\n",
       "      <td>-1</td>\n",
       "      <td>0</td>\n",
       "      <td>1</td>\n",
       "    </tr>\n",
       "    <tr>\n",
       "      <th>1</th>\n",
       "      <td>414120</td>\n",
       "      <td>Modbox</td>\n",
       "      <td>game</td>\n",
       "      <td>14.99</td>\n",
       "      <td>2016-04-05</td>\n",
       "      <td>-1</td>\n",
       "      <td>0</td>\n",
       "      <td>0</td>\n",
       "    </tr>\n",
       "    <tr>\n",
       "      <th>2</th>\n",
       "      <td>363020</td>\n",
       "      <td>IPackThat</td>\n",
       "      <td>game</td>\n",
       "      <td>64.99</td>\n",
       "      <td>2015-10-06</td>\n",
       "      <td>-1</td>\n",
       "      <td>0</td>\n",
       "      <td>0</td>\n",
       "    </tr>\n",
       "  </tbody>\n",
       "</table>\n",
       "</div>"
      ],
      "text/plain": [
       "    appid                                             Title  Type  Price  \\\n",
       "0   63942  Men of War: Vietnam Special Edition Upgrade Pack   dlc   2.99   \n",
       "1  414120                                            Modbox  game  14.99   \n",
       "2  363020                                         IPackThat  game  64.99   \n",
       "\n",
       "  Release_Date  Rating  Required_Age  Is_Multiplayer  \n",
       "0   1970-01-01      -1             0               1  \n",
       "1   2016-04-05      -1             0               0  \n",
       "2   2015-10-06      -1             0               0  "
      ]
     },
     "execution_count": 8,
     "metadata": {},
     "output_type": "execute_result"
    }
   ],
   "source": [
    "from dotenv import load_dotenv\n",
    "import os\n",
    "import pymysql\n",
    "import pandas as pd\n",
    "\n",
    "load_dotenv()\n",
    "\n",
    "conn = pymysql.connect(host='localhost',\n",
    "                        port=int(3306),\n",
    "                        user='root',\n",
    "                        passwd=os.getenv('MYSQL_PASSWORD'),\n",
    "                        db='steam')\n",
    "\n",
    "pd.read_sql_query('SELECT * FROM app_id_info LIMIT 3', conn)\n",
    "\n"
   ]
  },
  {
   "cell_type": "code",
   "execution_count": null,
   "metadata": {},
   "outputs": [],
   "source": []
  }
 ],
 "metadata": {
  "interpreter": {
   "hash": "f31a90d95d2982c589eaf06e079507673fde513f09da04e8a27803baaa68a840"
  },
  "kernelspec": {
   "display_name": "Python 3.8.12 ('isye6740')",
   "language": "python",
   "name": "python3"
  },
  "language_info": {
   "codemirror_mode": {
    "name": "ipython",
    "version": 3
   },
   "file_extension": ".py",
   "mimetype": "text/x-python",
   "name": "python",
   "nbconvert_exporter": "python",
   "pygments_lexer": "ipython3",
   "version": "3.8.12"
  },
  "orig_nbformat": 4
 },
 "nbformat": 4,
 "nbformat_minor": 2
}
